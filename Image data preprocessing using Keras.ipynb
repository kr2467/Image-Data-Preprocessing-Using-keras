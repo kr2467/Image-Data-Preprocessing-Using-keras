{
 "cells": [
  {
   "cell_type": "code",
   "execution_count": 2,
   "id": "efd57edd",
   "metadata": {},
   "outputs": [],
   "source": [
    "from tensorflow.keras.utils import img_to_array\n",
    "from keras.preprocessing.image import ImageDataGenerator\n",
    "from tensorflow.keras.utils import load_img\n",
    "import numpy as np"
   ]
  },
  {
   "cell_type": "code",
   "execution_count": 21,
   "id": "b044a94b",
   "metadata": {},
   "outputs": [],
   "source": [
    "datageneration= ImageDataGenerator(\n",
    "        rotation_range=40,\n",
    "        width_shift_range=0.4,\n",
    "        height_shift_range=0.4,\n",
    "        rescale=1./255,\n",
    "        shear_range=0.4,\n",
    "        zoom_range=0.4,\n",
    "        horizontal_flip=True,\n",
    "        fill_mode='nearest')"
   ]
  },
  {
   "cell_type": "code",
   "execution_count": 20,
   "id": "f80b7488",
   "metadata": {},
   "outputs": [
    {
     "name": "stdout",
     "output_type": "stream",
     "text": [
      "<PIL.JpegImagePlugin.JpegImageFile image mode=RGB size=1020x510 at 0x1ABC18BB940>\n"
     ]
    }
   ],
   "source": [
    "pic=load_img('C:\\\\Users\\\\usersdrive\\\\OneDrive\\\\Desktop\\\\image\\\\panda.jpg')\n",
    "print(pic)"
   ]
  },
  {
   "cell_type": "code",
   "execution_count": 5,
   "id": "eda1194d",
   "metadata": {},
   "outputs": [
    {
     "data": {
      "text/plain": [
       "<bound method Image.getpixel of <PIL.JpegImagePlugin.JpegImageFile image mode=RGB size=1020x510 at 0x1ABC18D2AF0>>"
      ]
     },
     "execution_count": 5,
     "metadata": {},
     "output_type": "execute_result"
    }
   ],
   "source": [
    "pic.getpixel"
   ]
  },
  {
   "cell_type": "code",
   "execution_count": 14,
   "id": "620a6d19",
   "metadata": {},
   "outputs": [],
   "source": [
    "pic_array= img_to_array(pic)"
   ]
  },
  {
   "cell_type": "code",
   "execution_count": 15,
   "id": "707bc0cc",
   "metadata": {},
   "outputs": [
    {
     "data": {
      "text/plain": [
       "(510, 1020, 3)"
      ]
     },
     "execution_count": 15,
     "metadata": {},
     "output_type": "execute_result"
    }
   ],
   "source": [
    "pic_array.shape\n"
   ]
  },
  {
   "cell_type": "code",
   "execution_count": 8,
   "id": "6ffec29b",
   "metadata": {},
   "outputs": [
    {
     "data": {
      "text/plain": [
       "(1, 510, 1020, 3)"
      ]
     },
     "execution_count": 8,
     "metadata": {},
     "output_type": "execute_result"
    }
   ],
   "source": [
    "pic_array=pic_array.reshape((1,)+ pic_array.shape)\n",
    "pic_array.shape"
   ]
  },
  {
   "cell_type": "code",
   "execution_count": 10,
   "id": "9df15099",
   "metadata": {},
   "outputs": [
    {
     "name": "stdout",
     "output_type": "stream",
     "text": [
      "10 images are generated\n"
     ]
    }
   ],
   "source": [
    "count=0\n",
    "for batch in datagen.flow(pic_array,batch_size=1,save_to_dir=\"C:\\\\Users\\\\usersdrive\\\\OneDrive\\\\Desktop\\\\image\\\\hello\",save_prefix='panda',save_format='png'):\n",
    "    count+=1\n",
    "    if count==10:\n",
    "        break\n",
    "print(\"10 images are generated\")"
   ]
  },
  {
   "cell_type": "code",
   "execution_count": 17,
   "id": "e9c553a8",
   "metadata": {},
   "outputs": [],
   "source": [
    "datagen = ImageDataGenerator(brightness_range=[0.5,2.0])"
   ]
  },
  {
   "cell_type": "code",
   "execution_count": 22,
   "id": "9c3598c5",
   "metadata": {},
   "outputs": [],
   "source": [
    "datagen = ImageDataGenerator(horizontal_flip=True, vertical_flip=True)"
   ]
  },
  {
   "cell_type": "code",
   "execution_count": 24,
   "id": "bfe628b1",
   "metadata": {},
   "outputs": [
    {
     "name": "stdout",
     "output_type": "stream",
     "text": [
      "<keras.preprocessing.image.ImageDataGenerator object at 0x000001ABC194BF40>\n"
     ]
    }
   ],
   "source": [
    "print(datagen)"
   ]
  }
 ],
 "metadata": {
  "kernelspec": {
   "display_name": "Python 3 (ipykernel)",
   "language": "python",
   "name": "python3"
  },
  "language_info": {
   "codemirror_mode": {
    "name": "ipython",
    "version": 3
   },
   "file_extension": ".py",
   "mimetype": "text/x-python",
   "name": "python",
   "nbconvert_exporter": "python",
   "pygments_lexer": "ipython3",
   "version": "3.9.7"
  }
 },
 "nbformat": 4,
 "nbformat_minor": 5
}
